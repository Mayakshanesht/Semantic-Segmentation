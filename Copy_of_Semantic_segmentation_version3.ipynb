{
  "nbformat": 4,
  "nbformat_minor": 0,
  "metadata": {
    "colab": {
      "name": "Copy of Semantic_segmentation_version3.ipynb",
      "provenance": [],
      "collapsed_sections": [],
      "authorship_tag": "ABX9TyN62RyGc3ODMkkdT3ac3NKU",
      "include_colab_link": true
    },
    "kernelspec": {
      "display_name": "Python 3",
      "name": "python3"
    },
    "language_info": {
      "name": "python"
    }
  },
  "cells": [
    {
      "cell_type": "markdown",
      "metadata": {
        "id": "view-in-github",
        "colab_type": "text"
      },
      "source": [
        "<a href=\"https://colab.research.google.com/github/Mayakshanesht/Semantic-Segmentation/blob/main/Copy_of_Semantic_segmentation_version3.ipynb\" target=\"_parent\"><img src=\"https://colab.research.google.com/assets/colab-badge.svg\" alt=\"Open In Colab\"/></a>"
      ]
    },
    {
      "cell_type": "code",
      "metadata": {
        "colab": {
          "base_uri": "https://localhost:8080/"
        },
        "id": "URgOGUcnsncp",
        "outputId": "b384b2c5-a54e-4970-acee-6dbf750239a6"
      },
      "source": [
        "#lets mount drive on the google colab\n",
        "import os\n",
        "from google.colab import drive\n",
        "drive.mount('/content/drive')\n",
        "os.chdir(\"/content/drive/My Drive/segmentation/segmentation_course-master/dataset/dataset\")\n",
        "!ls"
      ],
      "execution_count": 1,
      "outputs": [
        {
          "output_type": "stream",
          "text": [
            "Drive already mounted at /content/drive; to attempt to forcibly remount, call drive.mount(\"/content/drive\", force_remount=True).\n",
            "costa_rica_challenge.mp4  masks_3000_160.p\tSegmentationTest.h5\n",
            "images_3000_160.p\t  model.png\n",
            "labels_3000_160.p\t  SegmentationTest2.h5\n"
          ],
          "name": "stdout"
        }
      ]
    },
    {
      "cell_type": "code",
      "metadata": {
        "colab": {
          "base_uri": "https://localhost:8080/"
        },
        "id": "gqaKSdF0spFH",
        "outputId": "a4c5e14a-8f2e-464a-f8ed-2cef2f6d41c4"
      },
      "source": [
        "#lets import important python libraries\n",
        "import numpy as np\n",
        "import matplotlib.pyplot as plt\n",
        "import matplotlib.image as mpimg\n",
        "import pickle\n",
        "import cv2\n",
        "import random\n",
        "import time\n",
        "#lets install tensorflow\n",
        "import tensorflow as tf\n",
        "print(tf.__version__)"
      ],
      "execution_count": 2,
      "outputs": [
        {
          "output_type": "stream",
          "text": [
            "2.6.0\n"
          ],
          "name": "stdout"
        }
      ]
    },
    {
      "cell_type": "code",
      "metadata": {
        "id": "aZfaQwTPsuVF"
      },
      "source": [
        "with open('images_3000_160.p','rb') as f:\n",
        "  images=pickle.load(f)\n",
        "with open('labels_3000_160.p','rb') as f:\n",
        "  labels=pickle.load(f) "
      ],
      "execution_count": 3,
      "outputs": []
    },
    {
      "cell_type": "code",
      "metadata": {
        "id": "7n2il0_Fsx5B"
      },
      "source": [
        "masks=[]\n",
        "for label in labels:\n",
        "  for x in range(label.shape[0]):\n",
        "    for y in range(label.shape[1]):\n",
        "      if(np.all(label[x][y]==[0,0,0])):\n",
        "        label[x][y]=[0,1,0]\n",
        "        masks.append(label)"
      ],
      "execution_count": 4,
      "outputs": []
    },
    {
      "cell_type": "code",
      "metadata": {
        "id": "-9jXUshntbhZ"
      },
      "source": [
        "#file=\"masks_3000_160.p\"\n",
        "#pickle.dump(masks, open(file, \"wb\"))\n",
        "#(masks,'masks_3000_160.p')"
      ],
      "execution_count": null,
      "outputs": []
    },
    {
      "cell_type": "code",
      "metadata": {
        "id": "FtASioUctcBS"
      },
      "source": [
        "#with open('masks_3000_160.p','rb') as f:\n",
        "#  masks=pickle.load(f) "
      ],
      "execution_count": null,
      "outputs": []
    },
    {
      "cell_type": "code",
      "metadata": {
        "colab": {
          "base_uri": "https://localhost:8080/",
          "height": 217
        },
        "id": "aeP1Y2sxMUNi",
        "outputId": "1f16d183-06de-419d-f807-f6d3e38b76df"
      },
      "source": [
        "#masks=labels\n",
        "plt.imshow(masks[3])\n",
        "plt.show()"
      ],
      "execution_count": 5,
      "outputs": [
        {
          "output_type": "display_data",
          "data": {
            "image/png": "[encoded data removed]",
            "text/plain": [
              "<Figure size 432x288 with 1 Axes>"
            ]
          },
          "metadata": {
            "needs_background": "light"
          }
        }
      ]
    },
    {
      "cell_type": "code",
      "metadata": {
        "id": "WiP2qAl5s0fR"
      },
      "source": [
        "#images=(np.array(images[0:2999]))\n",
        "#images1=np.array(images[0:2999])\n",
        "#masks=(np.array(masks[0:2999]))"
      ],
      "execution_count": null,
      "outputs": []
    },
    {
      "cell_type": "code",
      "metadata": {
        "id": "BFHq9NCdtPYg"
      },
      "source": [
        "import numpy as np\n",
        "import tensorflow as tf\n",
        "from tensorflow import keras\n",
        "import cv2\n",
        "from scipy import io\n",
        "import tensorflow_datasets as tfds\n",
        "import matplotlib.pyplot as plt "
      ],
      "execution_count": 6,
      "outputs": []
    },
    {
      "cell_type": "code",
      "metadata": {
        "colab": {
          "base_uri": "https://localhost:8080/"
        },
        "id": "GdcoaQGItQpm",
        "outputId": "3cd95d07-9199-4ee3-d96b-cc22fd54fcdf"
      },
      "source": [
        "#1-Ignore\n",
        "base = keras.applications.DenseNet121(input_shape=[128,128,3], \n",
        "                                       include_top=False, \n",
        "                                       weights='imagenet')\n",
        "skip_names = ['conv1/relu', # size 64*64\n",
        "              'pool2_relu',  # size 32*32\n",
        "              'pool3_relu',  # size 16*16\n",
        "              'pool4_relu',  # size 8*8\n",
        "              'relu'        # size 4*4\n",
        "              ] \n",
        "skip_outputs = [base.get_layer(name).output for name in skip_names]\n",
        "for i in range(len(skip_outputs)):\n",
        "     print(skip_outputs[i]) \n",
        "downstack = keras.Model(inputs=base.input,\n",
        "                        outputs=skip_outputs)\n",
        "downstack.trainable = False \n",
        "!pip install -q git+https://github.com/tensorflow/examples.git\n",
        "from tensorflow_examples.models.pix2pix import pix2pix\n",
        " # Four upstack blocks for upsampling sizes \n",
        " # 4->8, 8->16, 16->32, 32->64 \n",
        "upstack = [pix2pix.upsample(512,3),\n",
        "           pix2pix.upsample(256,3),\n",
        "           pix2pix.upsample(128,3),\n",
        "           pix2pix.upsample(64,3)] \n",
        "# define the input layer\n",
        "inputs = keras.layers.Input(shape=[128,128,3])\n",
        " # downsample \n",
        "down = downstack(inputs)\n",
        "out = down[-1]\n",
        " # prepare skip-connections\n",
        "skips = reversed(down[:-1])\n",
        " # choose the last layer at first 4 --> 8\n",
        " # upsample with skip-connections\n",
        "for up, skip in zip(upstack,skips):\n",
        "     out = up(out)\n",
        "     out = keras.layers.Concatenate()([out,skip])\n",
        " # define the final transpose conv layer\n",
        " # image 128 by 128 with 59 classes\n",
        "out = keras.layers.Conv2DTranspose(3, 3,\n",
        "                                   strides=2,\n",
        "                                   padding='same',\n",
        "                                   )(out)\n",
        " # complete unet model\n",
        "unet = keras.Model(inputs=inputs, outputs=out)"
      ],
      "execution_count": null,
      "outputs": [
        {
          "name": "stdout",
          "output_type": "stream",
          "text": [
            "KerasTensor(type_spec=TensorSpec(shape=(None, 64, 64, 64), dtype=tf.float32, name=None), name='conv1/relu/Relu:0', description=\"created by layer 'conv1/relu'\")\n",
            "KerasTensor(type_spec=TensorSpec(shape=(None, 32, 32, 256), dtype=tf.float32, name=None), name='pool2_relu/Relu:0', description=\"created by layer 'pool2_relu'\")\n",
            "KerasTensor(type_spec=TensorSpec(shape=(None, 16, 16, 512), dtype=tf.float32, name=None), name='pool3_relu/Relu:0', description=\"created by layer 'pool3_relu'\")\n",
            "KerasTensor(type_spec=TensorSpec(shape=(None, 8, 8, 1024), dtype=tf.float32, name=None), name='pool4_relu/Relu:0', description=\"created by layer 'pool4_relu'\")\n",
            "KerasTensor(type_spec=TensorSpec(shape=(None, 4, 4, 1024), dtype=tf.float32, name=None), name='relu/Relu:0', description=\"created by layer 'relu'\")\n"
          ]
        }
      ]
    },
    {
      "cell_type": "code",
      "metadata": {
        "id": "B_yDlt1ytnh1"
      },
      "source": [
        "def resize_image(image):\n",
        "     image = tf.cast(image, tf.float32)\n",
        "     # scale values to [0,1]\n",
        "     image = image/255.0\n",
        "     # resize image\n",
        "     image = tf.image.resize(image, (128,128))\n",
        "     return image \n",
        "def resize_mask(mask):\n",
        "     #mask = tf.expand_dims(mask, axis=-1)\n",
        "     mask = tf.image.resize(mask, (128,128))\n",
        "     mask = tf.cast(mask, tf.uint8)\n",
        "     return mask \n",
        "X = np.array([resize_image(i) for i in images])\n",
        "y = np.array([resize_mask(m) for m in masks])"
      ],
      "execution_count": null,
      "outputs": []
    },
    {
      "cell_type": "code",
      "metadata": {
        "id": "aLkxZGL8nWSr"
      },
      "source": [
        "X.shape"
      ],
      "execution_count": null,
      "outputs": []
    },
    {
      "cell_type": "code",
      "metadata": {
        "id": "A2EvkbS3tyqd"
      },
      "source": [
        "from sklearn.model_selection import train_test_split\n",
        "train_X, val_X,train_y, val_y = train_test_split(X,y, \n",
        "                                                       test_size=0.2, \n",
        "                                                       random_state=0\n",
        "                                                      )"
      ],
      "execution_count": null,
      "outputs": []
    },
    {
      "cell_type": "code",
      "metadata": {
        "colab": {
          "base_uri": "https://localhost:8080/"
        },
        "id": "r8ZukZn4nghz",
        "outputId": "5abcc4e1-8004-4149-8a3a-5d808d599e26"
      },
      "source": [
        "len(val_X)"
      ],
      "execution_count": null,
      "outputs": [
        {
          "data": {
            "text/plain": [
              "600"
            ]
          },
          "execution_count": 16,
          "metadata": {},
          "output_type": "execute_result"
        }
      ]
    },
    {
      "cell_type": "code",
      "metadata": {
        "id": "pSRLUSY2t2kK"
      },
      "source": [
        "#2-Ignore\n",
        "unet.compile(loss= keras.losses.CategoricalCrossentropy(from_logits=True),\n",
        "             optimizer=keras.optimizers.RMSprop(learning_rate=0.001),\n",
        "             metrics=['accuracy']) "
      ],
      "execution_count": null,
      "outputs": []
    },
    {
      "cell_type": "code",
      "metadata": {
        "id": "tSjRFU19APoE"
      },
      "source": [
        "#https://github.com/zhixuhao/unet/blob/master/data.py\n",
        "import numpy as np \n",
        "import os\n",
        "import skimage.io as io\n",
        "import skimage.transform as trans\n",
        "import numpy as np\n",
        "from keras.models import Model\n",
        "from keras.layers import *\n",
        "from keras.optimizers import *\n",
        "from keras.callbacks import ModelCheckpoint, LearningRateScheduler\n",
        "from keras import backend as keras\n",
        "\n",
        "\n",
        "def unet(input_size = (128,128,3)):\n",
        "    inputs = Input(input_size)\n",
        "    conv1 = Conv2D(64, 3, activation = 'relu', padding = 'same', kernel_initializer = 'he_normal')(inputs)\n",
        "    conv1 = Conv2D(64, 3, activation = 'relu', padding = 'same', kernel_initializer = 'he_normal')(conv1)\n",
        "    pool1 = MaxPooling2D(pool_size=(2, 2))(conv1)\n",
        "    conv2 = Conv2D(128, 3, activation = 'relu', padding = 'same', kernel_initializer = 'he_normal')(pool1)\n",
        "    conv2 = Conv2D(128, 3, activation = 'relu', padding = 'same', kernel_initializer = 'he_normal')(conv2)\n",
        "    pool2 = MaxPooling2D(pool_size=(2, 2))(conv2)\n",
        "    conv3 = Conv2D(256, 3, activation = 'relu', padding = 'same', kernel_initializer = 'he_normal')(pool2)\n",
        "    conv3 = Conv2D(256, 3, activation = 'relu', padding = 'same', kernel_initializer = 'he_normal')(conv3)\n",
        "    pool3 = MaxPooling2D(pool_size=(2, 2))(conv3)\n",
        "    conv4 = Conv2D(512, 3, activation = 'relu', padding = 'same', kernel_initializer = 'he_normal')(pool3)\n",
        "    conv4 = Conv2D(512, 3, activation = 'relu', padding = 'same', kernel_initializer = 'he_normal')(conv4)\n",
        "    drop4 = Dropout(0.5)(conv4)\n",
        "    pool4 = MaxPooling2D(pool_size=(2, 2))(drop4)\n",
        "\n",
        "    conv5 = Conv2D(1024, 3, activation = 'relu', padding = 'same', kernel_initializer = 'he_normal')(pool4)\n",
        "    conv5 = Conv2D(1024, 3, activation = 'relu', padding = 'same', kernel_initializer = 'he_normal')(conv5)\n",
        "    drop5 = Dropout(0.5)(conv5)\n",
        "\n",
        "    up6 = Conv2D(512, 2, activation = 'relu', padding = 'same', kernel_initializer = 'he_normal')(UpSampling2D(size = (2,2))(drop5))\n",
        "    merge6 = concatenate([drop4,up6], axis = 3)\n",
        "    conv6 = Conv2D(512, 3, activation = 'relu', padding = 'same', kernel_initializer = 'he_normal')(merge6)\n",
        "    conv6 = Conv2D(512, 3, activation = 'relu', padding = 'same', kernel_initializer = 'he_normal')(conv6)\n",
        "\n",
        "    up7 = Conv2D(256, 2, activation = 'relu', padding = 'same', kernel_initializer = 'he_normal')(UpSampling2D(size = (2,2))(conv6))\n",
        "    merge7 = concatenate([conv3,up7], axis = 3)\n",
        "    conv7 = Conv2D(256, 3, activation = 'relu', padding = 'same', kernel_initializer = 'he_normal')(merge7)\n",
        "    conv7 = Conv2D(256, 3, activation = 'relu', padding = 'same', kernel_initializer = 'he_normal')(conv7)\n",
        "\n",
        "    up8 = Conv2D(128, 2, activation = 'relu', padding = 'same', kernel_initializer = 'he_normal')(UpSampling2D(size = (2,2))(conv7))\n",
        "    merge8 = concatenate([conv2,up8], axis = 3)\n",
        "    conv8 = Conv2D(128, 3, activation = 'relu', padding = 'same', kernel_initializer = 'he_normal')(merge8)\n",
        "    conv8 = Conv2D(128, 3, activation = 'relu', padding = 'same', kernel_initializer = 'he_normal')(conv8)\n",
        "\n",
        "    up9 = Conv2D(64, 2, activation = 'relu', padding = 'same', kernel_initializer = 'he_normal')(UpSampling2D(size = (2,2))(conv8))\n",
        "    merge9 = concatenate([conv1,up9], axis = 3)\n",
        "    conv9 = Conv2D(64, 3, activation = 'relu', padding = 'same', kernel_initializer = 'he_normal')(merge9)\n",
        "    conv9 = Conv2D(64, 3, activation = 'relu', padding = 'same', kernel_initializer = 'he_normal')(conv9)\n",
        "    conv9 = Conv2D(2, 3, activation = 'relu', padding = 'same', kernel_initializer = 'he_normal')(conv9)\n",
        "    conv10 = Conv2D(3, 1, activation = 'softmax')(conv9)\n",
        "\n",
        "    model =Model(inputs = inputs, outputs = conv10)\n",
        "\n",
        "    \n",
        "    \n",
        "    #model.summary()\n",
        "\n",
        "    #if(pretrained_weights):\n",
        "    #\tmodel.load_weights(pretrained_weights)\n",
        "\n",
        "    return model\n",
        "unet=unet()\n",
        "unet.summary()"
      ],
      "execution_count": null,
      "outputs": []
    },
    {
      "cell_type": "code",
      "metadata": {
        "id": "e7B2qjt2A3jt"
      },
      "source": [
        "unet.compile(loss= 'CategoricalCrossentropy',\n",
        "             optimizer='Adam',\n",
        "             metrics=['accuracy']) "
      ],
      "execution_count": null,
      "outputs": []
    },
    {
      "cell_type": "code",
      "metadata": {
        "id": "HVIluWyot7nh"
      },
      "source": [
        "unet.fit(train_X,train_y,epochs=2,validation_data=(val_X,val_y))"
      ],
      "execution_count": null,
      "outputs": []
    },
    {
      "cell_type": "code",
      "metadata": {
        "id": "BJjHC5_JoK_D"
      },
      "source": [
        "def rgb_channel(img, thresholding=False, thresh=130):\n",
        "    \"\"\"Threshold the re-drawn images\"\"\"\n",
        "    image = np.copy(img)\n",
        "    if thresholding:\n",
        "        ret, image = cv2.threshold(image, thresh, 255,cv2.THRESH_BINARY)\n",
        "    R = image[:,:,0]\n",
        "    G =image[:,:,1]\n",
        "    B =image[:,:,2]\n",
        "    return R,G,B"
      ],
      "execution_count": null,
      "outputs": []
    },
    {
      "cell_type": "code",
      "metadata": {
        "id": "ShtNNIDJM3jj"
      },
      "source": [
        "#from tensorflow import keras\n",
        "#model = keras.models.load_model(\"/content/drive/My Drive/segmentation/semantic_segmentation3.h5\")"
      ],
      "execution_count": null,
      "outputs": []
    },
    {
      "cell_type": "code",
      "metadata": {
        "id": "9rZYUeqCoL2w"
      },
      "source": [
        "def run(input_image):\n",
        "    h,w,d = input_image.shape\n",
        "\n",
        "    network_image = input_image.copy()\n",
        "    network_image = cv2.resize(network_image, (128,128), interpolation=cv2.INTER_AREA)\n",
        "    network_image=resize_image(network_image)\n",
        "    network_image = network_image[None,:,:,:]\n",
        "    prediction = unet.predict(network_image)[0]*255\n",
        "    R,G,B = rgb_channel(prediction)\n",
        "    blank = np.zeros_like(R).astype(np.uint8)\n",
        "    lane_image = np.dstack((R,blank,B))\n",
        "    lane_image = cv2.resize(lane_image, (w,h))\n",
        "    result = cv2.addWeighted(input_image, 1, lane_image.astype(np.uint8), 1, 0)\n",
        "    return result"
      ],
      "execution_count": null,
      "outputs": []
    },
    {
      "cell_type": "code",
      "metadata": {
        "id": "cSzSYpsDKief"
      },
      "source": [
        "unet.save(\"/content/drive/My Drive/segmentation/semantic_segmentation_unet11.h5\")"
      ],
      "execution_count": null,
      "outputs": []
    },
    {
      "cell_type": "code",
      "metadata": {
        "colab": {
          "base_uri": "https://localhost:8080/",
          "height": 454
        },
        "id": "rVRhgF4hoqKo",
        "outputId": "0c4437ea-938c-4d0b-eda9-8ff0259e23b7"
      },
      "source": [
        "idx=2\n",
        "predict_image = images[idx]\n",
        "img=run(predict_image)\n",
        "plt.imshow(img)\n",
        "plt.colorbar()\n",
        "plt.show()\n",
        "plt.imshow((labels[idx]))\n",
        "\n",
        "plt.show()"
      ],
      "execution_count": null,
      "outputs": [
        {
          "data": {
            "image/png": "[encoded data removed]",
            "text/plain": [
              "<Figure size 432x288 with 2 Axes>"
            ]
          },
          "metadata": {},
          "output_type": "display_data"
        },
        {
          "data": {
            "image/png": "[encoded data removed]",
            "text/plain": [
              "<Figure size 432x288 with 1 Axes>"
            ]
          },
          "metadata": {},
          "output_type": "display_data"
        }
      ]
    },
    {
      "cell_type": "code",
      "metadata": {
        "id": "rrkiC4i6oq5e"
      },
      "source": [
        "from moviepy.editor import VideoFileClip\n",
        "\n",
        "video_file = \"/content/drive/My Drive/segmentation/segmentation_course-master/dataset/dataset/costa_rica_challenge.mp4\"\n",
        "clip = VideoFileClip(video_file)\n",
        "white_clip = clip.fl_image(run)\n",
        "%time white_clip.write_videofile(\"/content/drive/My Drive/segmentation/movie_track51.mp4\",audio=False)"
      ],
      "execution_count": null,
      "outputs": []
    }
  ]
}